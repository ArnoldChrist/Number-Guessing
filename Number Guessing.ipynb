{
 "cells": [
  {
   "cell_type": "code",
   "execution_count": 1,
   "metadata": {},
   "outputs": [
    {
     "name": "stdout",
     "output_type": "stream",
     "text": [
      "Do you want to play? Yes / No Yes\n",
      "Guess a number from 0-100 : 55\n",
      "Hint : the number is too small.\n",
      "\n",
      "\n",
      "Guess a number from 0-100 : 70\n",
      "Multiplication of :  29\n",
      "\n",
      "\n",
      "Guess a number from 0-100 : 58\n",
      "Hint : the number is too small.\n",
      "\n",
      "\n",
      "Guess a number from 0-100 : 87\n",
      "\n",
      "\n",
      "Congratulations, the number is :  87\n",
      "Do you want to play? Yes / No No\n",
      "Thank you for playing Number Guessing\n"
     ]
    }
   ],
   "source": [
    "import numpy as np\n",
    "\n",
    "# The number\n",
    "the_number = np.random.randint(0,1000)\n",
    "guess = 0\n",
    "hint3 = 4\n",
    "\n",
    "play = 'No'\n",
    "\n",
    "play = input('Do you want to play? Yes / No ')\n",
    "\n",
    "# Guessing\n",
    "while play == 'Yes' :\n",
    "    while the_number != guess: # This loop keeps running if the guessed number is wrong.\n",
    "        guess = int(input(\"Guess a number from 0-100 : \"))\n",
    "\n",
    "        # Hints\n",
    "        if guess != the_number :\n",
    "            hint = np.random.randint(1,hint3) # Generating hints from 1-2\n",
    "        \n",
    "            # Hint 1 (Multiplication)\n",
    "            if hint == 1 :\n",
    "                my_list = []\n",
    "                for i in range(1,1001): # Finding the multiplications of the number\n",
    "                    if the_number % i == 0:\n",
    "                        my_list.append(str(i))\n",
    "                    \n",
    "                # Choosing a random multiplication\n",
    "                if len(my_list) > 1 :\n",
    "                    which_multi = np.random.randint(1,len(my_list)-1) # -1 so that the number isn't included in the multiplication.\n",
    "            \n",
    "                elif len(my_list) <= 1:\n",
    "                    which_multi = np.random.randint(1,len(my_list))\n",
    "                print('Multiplication of : ', my_list[which_multi])\n",
    "        \n",
    "            # Hint 2 (Too big / too small)\n",
    "            elif hint == 2 :\n",
    "                if guess >= the_number :\n",
    "                    print('Hint : the number is too big.')\n",
    "                elif guess <= the_number :\n",
    "                    print('Hint : the number is too small.')\n",
    "        \n",
    "            # Hint 3 (Odd / Even)\n",
    "            elif hint == 3 :\n",
    "                if the_number % 2 == 0 :\n",
    "                    print('It is an even number.')\n",
    "                else :\n",
    "                    print('It is an odd number.')\n",
    "                hint3 -= 1 # So that the 3rd hint only appears once.\n",
    "            \n",
    "        print('\\n') # Spacing between each guesses\n",
    "    \n",
    "        # When the player wins\n",
    "        if the_number == guess:\n",
    "            print('Congratulations, the number is : ',the_number)\n",
    "            \n",
    "            play = input('Do you want to play again? Yes / No : ')\n",
    "    \n",
    "# If the player doesn't want to play again\n",
    "if play == 'No' :\n",
    "    print('Thank you for playing Number Guessing')"
   ]
  },
  {
   "cell_type": "code",
   "execution_count": null,
   "metadata": {},
   "outputs": [],
   "source": []
  }
 ],
 "metadata": {
  "kernelspec": {
   "display_name": "Python 3",
   "language": "python",
   "name": "python3"
  },
  "language_info": {
   "codemirror_mode": {
    "name": "ipython",
    "version": 3
   },
   "file_extension": ".py",
   "mimetype": "text/x-python",
   "name": "python",
   "nbconvert_exporter": "python",
   "pygments_lexer": "ipython3",
   "version": "3.7.6"
  }
 },
 "nbformat": 4,
 "nbformat_minor": 4
}
